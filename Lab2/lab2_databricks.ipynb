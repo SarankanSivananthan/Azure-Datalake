{
 "cells": [
  {
   "cell_type": "code",
   "execution_count": null,
   "metadata": {
    "application/vnd.databricks.v1+cell": {
     "cellMetadata": {
      "byteLimit": 2048000,
      "rowLimit": 10000
     },
     "inputWidgets": {},
     "nuid": "5d860210-d7fc-4514-9875-ddee773be67d",
     "showTitle": false,
     "title": ""
    }
   },
   "outputs": [
    {
     "name": "stdout",
     "output_type": "stream",
     "text": [
      "+----------+-----------------+-----------------+-----------------+-----------------+---------+-----------------+------------+----------+\n",
      "|      Date|             High|              Low|             Open|            Close|   Volume|        Adj Close|company_name|stock_name|\n",
      "+----------+-----------------+-----------------+-----------------+-----------------+---------+-----------------+------------+----------+\n",
      "|2017-01-03| 758.760009765625|747.7000122070312|757.9199829101562|753.6699829101562|3521100.0|753.6699829101562|      AMAZON|      AMZN|\n",
      "|2017-01-04|759.6799926757812|754.2000122070312|758.3900146484375|757.1799926757812|2510500.0|757.1799926757812|      AMAZON|      AMZN|\n",
      "|2017-01-05|782.4000244140625| 760.260009765625|761.5499877929688|780.4500122070312|5830100.0|780.4500122070312|      AMAZON|      AMZN|\n",
      "|2017-01-06|799.4400024414062|  778.47998046875|782.3599853515625| 795.989990234375|5986200.0| 795.989990234375|      AMAZON|      AMZN|\n",
      "|2017-01-09|  801.77001953125|  791.77001953125|            798.0|796.9199829101562|3446100.0|796.9199829101562|      AMAZON|      AMZN|\n",
      "|2017-01-10|            798.0|789.5399780273438|796.5999755859375|795.9000244140625|2558400.0|795.9000244140625|      AMAZON|      AMZN|\n",
      "|2017-01-11|            799.5| 789.510009765625|793.6599731445312|  799.02001953125|2992800.0|  799.02001953125|      AMAZON|      AMZN|\n",
      "|2017-01-12|814.1300048828125|            799.5|800.3099975585938|813.6400146484375|4873900.0|813.6400146484375|      AMAZON|      AMZN|\n",
      "|2017-01-13|821.6500244140625|811.4000244140625|814.3200073242188|817.1400146484375|3791900.0|817.1400146484375|      AMAZON|      AMZN|\n",
      "|2017-01-17|            816.0|803.4400024414062|815.7000122070312| 809.719970703125|3670500.0| 809.719970703125|      AMAZON|      AMZN|\n",
      "|2017-01-18|  811.72998046875|  804.27001953125|            809.5|  807.47998046875|2354200.0|  807.47998046875|      AMAZON|      AMZN|\n",
      "|2017-01-19| 813.510009765625|807.3200073242188|            810.0|809.0399780273438|2540800.0|809.0399780273438|      AMAZON|      AMZN|\n",
      "|2017-01-20|  816.02001953125| 806.260009765625| 815.280029296875|808.3300170898438|3376200.0|808.3300170898438|      AMAZON|      AMZN|\n",
      "|2017-01-23|            818.5|805.0800170898438|806.7999877929688|817.8800048828125|2797500.0|817.8800048828125|      AMAZON|      AMZN|\n",
      "|2017-01-24| 823.989990234375|            814.5|            822.0|822.4400024414062|2971700.0|822.4400024414062|      AMAZON|      AMZN|\n",
      "|2017-01-25|837.4199829101562|825.2899780273438|825.7899780273438|  836.52001953125|3922600.0|  836.52001953125|      AMAZON|      AMZN|\n",
      "|2017-01-26|843.8400268554688|            833.0| 835.530029296875|839.1500244140625|3586300.0|839.1500244140625|      AMAZON|      AMZN|\n",
      "|2017-01-27|839.7000122070312|829.4400024414062|            839.0|  835.77001953125|2998700.0|  835.77001953125|      AMAZON|      AMZN|\n",
      "|2017-01-30|            833.5|816.3800048828125|            833.0|830.3800048828125|3747300.0|830.3800048828125|      AMAZON|      AMZN|\n",
      "|2017-01-31| 826.989990234375|819.5599975585938|           823.75|  823.47998046875|3137200.0|  823.47998046875|      AMAZON|      AMZN|\n",
      "+----------+-----------------+-----------------+-----------------+-----------------+---------+-----------------+------------+----------+\n",
      "only showing top 20 rows\n",
      "\n"
     ]
    }
   ],
   "source": [
    "# Define the connection properties\n",
    "jdbc_url = \"jdbc:sqlserver://lab3-sql-server.database.windows.net:1433;database=lab3-sql-db\"\n",
    "connection_properties = {\n",
    "    \"user\": \"sarankan\",\n",
    "    \"password\": \"s123456789!\",\n",
    "    \"driver\": \"com.microsoft.sqlserver.jdbc.SQLServerDriver\"\n",
    "}\n",
    " \n",
    "# Define the table name\n",
    "table_name = \"STOCK\"\n",
    " \n",
    "# Read the table into a DataFrame\n",
    "df = spark.read.jdbc(url=jdbc_url, table=table_name, properties=connection_properties)\n",
    " \n",
    "# Show the DataFrame\n",
    "df.show()"
   ]
  },
  {
   "cell_type": "code",
   "execution_count": null,
   "metadata": {
    "application/vnd.databricks.v1+cell": {
     "cellMetadata": {
      "byteLimit": 2048000,
      "rowLimit": 10000
     },
     "inputWidgets": {},
     "nuid": "65502a11-8174-4f75-82ba-75c220ab9e29",
     "showTitle": false,
     "title": ""
    }
   },
   "outputs": [
    {
     "name": "stdout",
     "output_type": "stream",
     "text": [
      "Average Daily Return for AMZN between 2017-01-03 and 2017-01-05: 0.0032172458640818582\n"
     ]
    }
   ],
   "source": [
    "from pyspark.sql import SparkSession\n",
    "from pyspark.sql import functions as F\n",
    "from pyspark.sql.window import Window\n",
    "\n",
    "def calculate_average_daily_return(stock_data, stock_name, start_date, end_date):\n",
    "    # Filter stock data for the specified stock and date range\n",
    "    filtered_data = stock_data.filter((F.col('stock_name') == stock_name) & (F.col('Date') >= start_date) & (F.col('Date') <= end_date))\n",
    " \n",
    "    # Calculate daily return rate\n",
    "    window_spec = Window().orderBy('Date')\n",
    "    filtered_data = filtered_data.withColumn('Daily Return', (F.col('Adj Close') - F.lag('Adj Close').over(window_spec)) / F.lag('Adj Close').over(window_spec))\n",
    " \n",
    "    # Drop the first row as it will have NaN for the daily return\n",
    "    filtered_data = filtered_data.dropna()\n",
    " \n",
    "    # Calculate average daily return\n",
    "    average_daily_return = filtered_data.groupBy().agg(F.avg('Daily Return')).collect()[0][0]\n",
    " \n",
    "    return average_daily_return\n",
    " \n",
    "# Example usage:\n",
    "# Specify the stock name, start date, and end date\n",
    "stock_name = 'AMZN'\n",
    "start_date = '2017-01-03'\n",
    "end_date = '2017-01-05'\n",
    " \n",
    "# Call the function\n",
    "average_daily_return = calculate_average_daily_return(df, stock_name, start_date, end_date)\n",
    " \n",
    "# Display the result\n",
    "print(f\"Average Daily Return for {stock_name} between {start_date} and {end_date}: {average_daily_return}\")"
   ]
  },
  {
   "cell_type": "code",
   "execution_count": null,
   "metadata": {
    "application/vnd.databricks.v1+cell": {
     "cellMetadata": {
      "byteLimit": 2048000,
      "rowLimit": 10000
     },
     "inputWidgets": {},
     "nuid": "38406f07-23f1-410d-ad3f-554aa66168be",
     "showTitle": false,
     "title": ""
    }
   },
   "outputs": [
    {
     "name": "stdout",
     "output_type": "stream",
     "text": [
      "+----------+-----------------+-----------------+\n",
      "|      Date|             Open|   Moving Average|\n",
      "+----------+-----------------+-----------------+\n",
      "|2017-01-03|757.9199829101562|757.9199829101562|\n",
      "|2017-01-03|757.9199829101562|757.9199829101562|\n",
      "|2017-01-03|757.9199829101562|757.9199829101562|\n",
      "|2017-01-03|757.9199829101562|757.9199829101562|\n",
      "|2017-01-04|758.3900146484375|758.0139892578125|\n",
      "|2017-01-04|758.3900146484375|  758.07666015625|\n",
      "|2017-01-04|758.3900146484375|758.1549987792969|\n",
      "|2017-01-04|758.3900146484375|758.2333374023438|\n",
      "|2017-01-05|761.5499877929688|758.8383382161459|\n",
      "|2017-01-05|761.5499877929688|759.4433390299479|\n",
      "|2017-01-05|761.5499877929688|759.9700012207031|\n",
      "|2017-01-05|761.5499877929688|760.4966634114584|\n",
      "+----------+-----------------+-----------------+\n",
      "\n"
     ]
    }
   ],
   "source": [
    "def calculate_moving_average(stock_data, stock_name, start_date, end_date, window_size):\n",
    "    # Filter stock data for the specified stock and date range\n",
    "    filtered_data = stock_data.filter((F.col('stock_name') == stock_name) & (F.col('Date') >= start_date) & (F.col('Date') <= end_date))\n",
    "\n",
    "    # Calculate moving average over the opening price column\n",
    "    window_spec = Window().orderBy('Date').rowsBetween(-window_size, 0)\n",
    "    filtered_data = filtered_data.withColumn('Moving Average', F.avg('Open').over(window_spec))\n",
    "\n",
    "    return filtered_data.select('Date', 'Open', 'Moving Average')\n",
    "\n",
    "# Example usage:\n",
    "# Specify the stock name, start date, and end date\n",
    "stock_name = 'AMZN'\n",
    "start_date = '2017-01-03'\n",
    "end_date = '2017-01-05'\n",
    "window_size = 5\n",
    "\n",
    "# Call the function\n",
    "moving_average_data = calculate_moving_average(df, stock_name, start_date, end_date, window_size)\n",
    "\n",
    "# Display the result\n",
    "moving_average_data.show()"
   ]
  },
  {
   "cell_type": "code",
   "execution_count": null,
   "metadata": {
    "application/vnd.databricks.v1+cell": {
     "cellMetadata": {
      "byteLimit": 2048000,
      "rowLimit": 10000
     },
     "inputWidgets": {},
     "nuid": "15163fec-58da-4059-8174-4bbba5b18f67",
     "showTitle": false,
     "title": ""
    }
   },
   "outputs": [],
   "source": [
    "#%pip install --upgrade azure-storage-blob"
   ]
  },
  {
   "cell_type": "code",
   "execution_count": null,
   "metadata": {
    "application/vnd.databricks.v1+cell": {
     "cellMetadata": {
      "byteLimit": 2048000,
      "rowLimit": 10000
     },
     "inputWidgets": {},
     "nuid": "6b4906d1-6df9-4262-a1a2-fbb9ca121c73",
     "showTitle": false,
     "title": ""
    }
   },
   "outputs": [],
   "source": [
    "from azure.storage.blob import BlobServiceClient, BlobClient, ContainerClient, PublicAccess\n",
    "\n",
    "account_name = \"lab3stoaccount\"\n",
    "account_key = \"jQ+o/g/0QzQbvKe6ScSdArB+zSWFqZMeB0dxL+ivOY3y2xt64OINcSGegNXvWqaXA2Qx2UTGXoEO+AStXxeH4w==\"\n",
    "account_url = f\"https://{account_name}.blob.core.windows.net\"\n",
    "container_name = \"output-databricks\""
   ]
  },
  {
   "cell_type": "code",
   "execution_count": null,
   "metadata": {
    "application/vnd.databricks.v1+cell": {
     "cellMetadata": {
      "byteLimit": 2048000,
      "rowLimit": 10000
     },
     "inputWidgets": {},
     "nuid": "0919cc29-fc82-4615-a95b-748e4b98dd35",
     "showTitle": false,
     "title": ""
    }
   },
   "outputs": [],
   "source": [
    "blob_service = BlobServiceClient(credential=account_key , account_url = account_url)\n",
    "\n",
    "container_client = blob_service.get_container_client(container_name)"
   ]
  },
  {
   "cell_type": "code",
   "execution_count": null,
   "metadata": {
    "application/vnd.databricks.v1+cell": {
     "cellMetadata": {
      "byteLimit": 2048000,
      "rowLimit": 10000
     },
     "inputWidgets": {},
     "nuid": "194ba11f-e226-4c96-95a8-ae4bb88d3ca3",
     "showTitle": false,
     "title": ""
    }
   },
   "outputs": [],
   "source": [
    "result1_str = f\"Average Daily Return for {stock_name} between {start_date} and {end_date}: {average_daily_return}\"\n",
    "\n",
    "result1_outputfile = 'result1.txt'"
   ]
  },
  {
   "cell_type": "code",
   "execution_count": null,
   "metadata": {
    "application/vnd.databricks.v1+cell": {
     "cellMetadata": {
      "byteLimit": 2048000,
      "rowLimit": 10000
     },
     "inputWidgets": {},
     "nuid": "9fcfae96-9847-46de-be77-4b8060447caa",
     "showTitle": false,
     "title": ""
    }
   },
   "outputs": [],
   "source": [
    "result2_str = moving_average_data.toPandas().to_string()\n",
    "\n",
    "result2_outputfile = 'result2.txt'"
   ]
  },
  {
   "cell_type": "code",
   "execution_count": null,
   "metadata": {
    "application/vnd.databricks.v1+cell": {
     "cellMetadata": {
      "byteLimit": 2048000,
      "rowLimit": 10000
     },
     "inputWidgets": {},
     "nuid": "7999926c-f93f-4653-8f21-4406b7060625",
     "showTitle": false,
     "title": ""
    }
   },
   "outputs": [
    {
     "name": "stdout",
     "output_type": "stream",
     "text": [
      "Out[46]: {'etag': '\"0x8DBEE0A90FA0500\"',\n",
      " 'last_modified': datetime.datetime(2023, 11, 25, 23, 2, 15, tzinfo=datetime.timezone.utc),\n",
      " 'content_md5': bytearray(b'\\x8d|\\x80\\xdc\\xea\\xd1\\xe71q7R\\xdbR\\x8f\\x1f\\x1f'),\n",
      " 'client_request_id': 'acc3632e-8be6-11ee-9688-00163ec8f308',\n",
      " 'request_id': '03a2d101-101e-002b-6bf3-1f8d40000000',\n",
      " 'version': '2023-11-03',\n",
      " 'version_id': None,\n",
      " 'date': datetime.datetime(2023, 11, 25, 23, 2, 15, tzinfo=datetime.timezone.utc),\n",
      " 'request_server_encrypted': True,\n",
      " 'encryption_key_sha256': None,\n",
      " 'encryption_scope': None}"
     ]
    }
   ],
   "source": [
    "blob_client = container_client.get_blob_client(result1_outputfile)\n",
    "blob_client.upload_blob(result1_str, overwrite=True)\n",
    "\n",
    "blob_client = container_client.get_blob_client(result2_outputfile)\n",
    "blob_client.upload_blob(result2_str, overwrite=True)"
   ]
  },
  {
   "cell_type": "code",
   "execution_count": null,
   "metadata": {
    "application/vnd.databricks.v1+cell": {
     "cellMetadata": {},
     "inputWidgets": {},
     "nuid": "89decaa5-b17f-4e15-bbdf-f0c8d2f1e8b1",
     "showTitle": false,
     "title": ""
    }
   },
   "outputs": [],
   "source": []
  }
 ],
 "metadata": {
  "application/vnd.databricks.v1+notebook": {
   "dashboards": [],
   "language": "python",
   "notebookMetadata": {
    "pythonIndentUnit": 4
   },
   "notebookName": "lab3_databricks",
   "widgets": {}
  },
  "language_info": {
   "name": "python"
  }
 },
 "nbformat": 4,
 "nbformat_minor": 0
}
